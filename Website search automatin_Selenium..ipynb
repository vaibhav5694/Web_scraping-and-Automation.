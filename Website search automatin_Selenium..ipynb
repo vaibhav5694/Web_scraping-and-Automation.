{
 "cells": [
  {
   "cell_type": "code",
   "execution_count": 1,
   "id": "c9858128",
   "metadata": {
    "scrolled": true
   },
   "outputs": [
    {
     "name": "stdout",
     "output_type": "stream",
     "text": [
      "Requirement already satisfied: selenium in c:\\users\\vaibhav kumar\\anaconda3\\lib\\site-packages (4.13.0)\n",
      "Requirement already satisfied: trio~=0.17 in c:\\users\\vaibhav kumar\\anaconda3\\lib\\site-packages (from selenium) (0.22.2)\n",
      "Requirement already satisfied: urllib3[socks]<3,>=1.26 in c:\\users\\vaibhav kumar\\anaconda3\\lib\\site-packages (from selenium) (1.26.14)\n",
      "Requirement already satisfied: trio-websocket~=0.9 in c:\\users\\vaibhav kumar\\anaconda3\\lib\\site-packages (from selenium) (0.11.1)\n",
      "Requirement already satisfied: certifi>=2021.10.8 in c:\\users\\vaibhav kumar\\anaconda3\\lib\\site-packages (from selenium) (2022.12.7)\n",
      "Requirement already satisfied: outcome in c:\\users\\vaibhav kumar\\anaconda3\\lib\\site-packages (from trio~=0.17->selenium) (1.2.0)\n",
      "Requirement already satisfied: sniffio in c:\\users\\vaibhav kumar\\anaconda3\\lib\\site-packages (from trio~=0.17->selenium) (1.2.0)\n",
      "Requirement already satisfied: attrs>=20.1.0 in c:\\users\\vaibhav kumar\\anaconda3\\lib\\site-packages (from trio~=0.17->selenium) (22.1.0)\n",
      "Requirement already satisfied: exceptiongroup>=1.0.0rc9 in c:\\users\\vaibhav kumar\\anaconda3\\lib\\site-packages (from trio~=0.17->selenium) (1.1.3)\n",
      "Requirement already satisfied: cffi>=1.14 in c:\\users\\vaibhav kumar\\anaconda3\\lib\\site-packages (from trio~=0.17->selenium) (1.15.1)\n",
      "Requirement already satisfied: idna in c:\\users\\vaibhav kumar\\anaconda3\\lib\\site-packages (from trio~=0.17->selenium) (3.4)\n",
      "Requirement already satisfied: sortedcontainers in c:\\users\\vaibhav kumar\\anaconda3\\lib\\site-packages (from trio~=0.17->selenium) (2.4.0)\n",
      "Requirement already satisfied: wsproto>=0.14 in c:\\users\\vaibhav kumar\\anaconda3\\lib\\site-packages (from trio-websocket~=0.9->selenium) (1.2.0)\n",
      "Requirement already satisfied: PySocks!=1.5.7,<2.0,>=1.5.6 in c:\\users\\vaibhav kumar\\anaconda3\\lib\\site-packages (from urllib3[socks]<3,>=1.26->selenium) (1.7.1)\n",
      "Requirement already satisfied: pycparser in c:\\users\\vaibhav kumar\\anaconda3\\lib\\site-packages (from cffi>=1.14->trio~=0.17->selenium) (2.21)\n",
      "Requirement already satisfied: h11<1,>=0.9.0 in c:\\users\\vaibhav kumar\\anaconda3\\lib\\site-packages (from wsproto>=0.14->trio-websocket~=0.9->selenium) (0.14.0)\n",
      "Note: you may need to restart the kernel to use updated packages.\n"
     ]
    }
   ],
   "source": [
    "pip install selenium"
   ]
  },
  {
   "cell_type": "code",
   "execution_count": 36,
   "id": "a224769f",
   "metadata": {},
   "outputs": [],
   "source": [
    "from selenium import webdriver\n",
    "from selenium.webdriver.common.by import By\n",
    "import pandas as pd"
   ]
  },
  {
   "cell_type": "code",
   "execution_count": 37,
   "id": "50142fbd",
   "metadata": {},
   "outputs": [],
   "source": [
    "path = 'C:\\\\Chromedriver.exe'"
   ]
  },
  {
   "cell_type": "code",
   "execution_count": 38,
   "id": "3c6cb2e2",
   "metadata": {},
   "outputs": [],
   "source": [
    "# set path for the driver\n",
    "#browser = webdriver.Chrome(executable_path = r\"/content/chromedriver.exe\")\n",
    "browser = webdriver.Chrome()\n",
    "#driver.get(\"http://www.python.org\")"
   ]
  },
  {
   "cell_type": "code",
   "execution_count": 39,
   "id": "c4b5222b",
   "metadata": {},
   "outputs": [],
   "source": [
    "\n",
    "url = \"https://www.practo.com/\"\n",
    "browser.get(url)\n"
   ]
  },
  {
   "cell_type": "code",
   "execution_count": 40,
   "id": "db4b1110",
   "metadata": {},
   "outputs": [],
   "source": [
    "import time \n",
    "from time import sleep\n",
    "from selenium.webdriver.support.ui import Select\n",
    "search_field = browser.find_element(By.XPATH, \"//input[@data-qa-id='omni-searchbox-locality']\")\n",
    "search_field.clear()\n",
    "# Enter the city name (e.g., Lucknow)\n",
    "search_field.send_keys('Lucknow')\n",
    "# Select the second option in the dropdown (index 1)\n",
    "#search_field.select_by_index(1)"
   ]
  },
  {
   "cell_type": "code",
   "execution_count": 41,
   "id": "7e80fb96",
   "metadata": {},
   "outputs": [],
   "source": [
    "search_field.clear()\n",
    "sleep(5)\n",
    "search_field2 = browser.find_element(By.XPATH, \"//input[@data-qa-id='omni-searchbox-keyword']\")\n",
    "search_field2.send_keys('Heart Specialist')\n",
    "#search_field2.select_by_index(1)"
   ]
  },
  {
   "cell_type": "code",
   "execution_count": null,
   "id": "916b3b03",
   "metadata": {},
   "outputs": [],
   "source": []
  },
  {
   "cell_type": "code",
   "execution_count": null,
   "id": "42b26440",
   "metadata": {},
   "outputs": [],
   "source": []
  }
 ],
 "metadata": {
  "kernelspec": {
   "display_name": "Python 3 (ipykernel)",
   "language": "python",
   "name": "python3"
  },
  "language_info": {
   "codemirror_mode": {
    "name": "ipython",
    "version": 3
   },
   "file_extension": ".py",
   "mimetype": "text/x-python",
   "name": "python",
   "nbconvert_exporter": "python",
   "pygments_lexer": "ipython3",
   "version": "3.10.9"
  }
 },
 "nbformat": 4,
 "nbformat_minor": 5
}
